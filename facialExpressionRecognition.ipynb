{
  "nbformat": 4,
  "nbformat_minor": 0,
  "metadata": {
    "kernelspec": {
      "display_name": "Python 3",
      "language": "python",
      "name": "python3"
    },
    "language_info": {
      "codemirror_mode": {
        "name": "ipython",
        "version": 3
      },
      "file_extension": ".py",
      "mimetype": "text/x-python",
      "name": "python",
      "nbconvert_exporter": "python",
      "pygments_lexer": "ipython3",
      "version": "3.7.1"
    },
    "colab": {
      "name": "facialExpressionRecognition.ipynb",
      "provenance": []
    }
  },
  "cells": [
    {
      "cell_type": "code",
      "metadata": {
        "id": "WR48F7QZSHDL"
      },
      "source": [
        "import pandas as pd"
      ],
      "execution_count": null,
      "outputs": []
    },
    {
      "cell_type": "code",
      "metadata": {
        "id": "WUzuZWI9SHDQ"
      },
      "source": [
        "#download dataset from fer 2013 kaggle"
      ],
      "execution_count": null,
      "outputs": []
    },
    {
      "cell_type": "code",
      "metadata": {
        "id": "cEcld4y0SHDR"
      },
      "source": [
        "df=pd.read_csv('icml_face_data.csv')"
      ],
      "execution_count": null,
      "outputs": []
    },
    {
      "cell_type": "code",
      "metadata": {
        "id": "3LeGRblQSHDR",
        "outputId": "ac55032b-dcee-4fdb-cc3d-234bcbc14f89"
      },
      "source": [
        "import numpy as np\n",
        "import cv2\n",
        "import matplotlib.pyplot as plt"
      ],
      "execution_count": null,
      "outputs": [
        {
          "output_type": "stream",
          "text": [
            "Matplotlib is building the font cache; this may take a moment.\n"
          ],
          "name": "stderr"
        }
      ]
    },
    {
      "cell_type": "code",
      "metadata": {
        "id": "qmNUjEvnSHDT",
        "outputId": "d6328f8f-6fa7-4d57-91ff-1bca893e5b94"
      },
      "source": [
        "df.head()"
      ],
      "execution_count": null,
      "outputs": [
        {
          "output_type": "execute_result",
          "data": {
            "text/html": [
              "<div>\n",
              "<style scoped>\n",
              "    .dataframe tbody tr th:only-of-type {\n",
              "        vertical-align: middle;\n",
              "    }\n",
              "\n",
              "    .dataframe tbody tr th {\n",
              "        vertical-align: top;\n",
              "    }\n",
              "\n",
              "    .dataframe thead th {\n",
              "        text-align: right;\n",
              "    }\n",
              "</style>\n",
              "<table border=\"1\" class=\"dataframe\">\n",
              "  <thead>\n",
              "    <tr style=\"text-align: right;\">\n",
              "      <th></th>\n",
              "      <th>emotion</th>\n",
              "      <th>Usage</th>\n",
              "      <th>pixels</th>\n",
              "    </tr>\n",
              "  </thead>\n",
              "  <tbody>\n",
              "    <tr>\n",
              "      <th>0</th>\n",
              "      <td>0</td>\n",
              "      <td>Training</td>\n",
              "      <td>70 80 82 72 58 58 60 63 54 58 60 48 89 115 121...</td>\n",
              "    </tr>\n",
              "    <tr>\n",
              "      <th>1</th>\n",
              "      <td>0</td>\n",
              "      <td>Training</td>\n",
              "      <td>151 150 147 155 148 133 111 140 170 174 182 15...</td>\n",
              "    </tr>\n",
              "    <tr>\n",
              "      <th>2</th>\n",
              "      <td>2</td>\n",
              "      <td>Training</td>\n",
              "      <td>231 212 156 164 174 138 161 173 182 200 106 38...</td>\n",
              "    </tr>\n",
              "    <tr>\n",
              "      <th>3</th>\n",
              "      <td>4</td>\n",
              "      <td>Training</td>\n",
              "      <td>24 32 36 30 32 23 19 20 30 41 21 22 32 34 21 1...</td>\n",
              "    </tr>\n",
              "    <tr>\n",
              "      <th>4</th>\n",
              "      <td>6</td>\n",
              "      <td>Training</td>\n",
              "      <td>4 0 0 0 0 0 0 0 0 0 0 0 3 15 23 28 48 50 58 84...</td>\n",
              "    </tr>\n",
              "  </tbody>\n",
              "</table>\n",
              "</div>"
            ],
            "text/plain": [
              "   emotion     Usage                                             pixels\n",
              "0        0  Training  70 80 82 72 58 58 60 63 54 58 60 48 89 115 121...\n",
              "1        0  Training  151 150 147 155 148 133 111 140 170 174 182 15...\n",
              "2        2  Training  231 212 156 164 174 138 161 173 182 200 106 38...\n",
              "3        4  Training  24 32 36 30 32 23 19 20 30 41 21 22 32 34 21 1...\n",
              "4        6  Training  4 0 0 0 0 0 0 0 0 0 0 0 3 15 23 28 48 50 58 84..."
            ]
          },
          "metadata": {
            "tags": []
          },
          "execution_count": 5
        }
      ]
    },
    {
      "cell_type": "code",
      "metadata": {
        "id": "ysO6eBWiSHDU"
      },
      "source": [
        "#emotions"
      ],
      "execution_count": null,
      "outputs": []
    },
    {
      "cell_type": "code",
      "metadata": {
        "id": "Pr7vQ0N4SHDU",
        "outputId": "a3cca6aa-74d9-4e91-b96f-ff7ec8309863"
      },
      "source": [
        "df['emotion'].unique()"
      ],
      "execution_count": null,
      "outputs": [
        {
          "output_type": "execute_result",
          "data": {
            "text/plain": [
              "array([0, 2, 4, 6, 3, 5, 1], dtype=int64)"
            ]
          },
          "metadata": {
            "tags": []
          },
          "execution_count": 7
        }
      ]
    },
    {
      "cell_type": "code",
      "metadata": {
        "id": "rRPVlp7OSHDV"
      },
      "source": [
        "#images are in string form"
      ],
      "execution_count": null,
      "outputs": []
    },
    {
      "cell_type": "code",
      "metadata": {
        "id": "0St1v87nSHDW",
        "outputId": "0e795c37-b4fd-4cac-89a5-436352ff9272"
      },
      "source": [
        "df[' pixels']"
      ],
      "execution_count": null,
      "outputs": [
        {
          "output_type": "execute_result",
          "data": {
            "text/plain": [
              "0        70 80 82 72 58 58 60 63 54 58 60 48 89 115 121...\n",
              "1        151 150 147 155 148 133 111 140 170 174 182 15...\n",
              "2        231 212 156 164 174 138 161 173 182 200 106 38...\n",
              "3        24 32 36 30 32 23 19 20 30 41 21 22 32 34 21 1...\n",
              "4        4 0 0 0 0 0 0 0 0 0 0 0 3 15 23 28 48 50 58 84...\n",
              "5        55 55 55 55 55 54 60 68 54 85 151 163 170 179 ...\n",
              "6        20 17 19 21 25 38 42 42 46 54 56 62 63 66 82 1...\n",
              "7        77 78 79 79 78 75 60 55 47 48 58 73 77 79 57 5...\n",
              "8        85 84 90 121 101 102 133 153 153 169 177 189 1...\n",
              "9        255 254 255 254 254 179 122 107 95 124 149 150...\n",
              "10       30 24 21 23 25 25 49 67 84 103 120 125 130 139...\n",
              "11       39 75 78 58 58 45 49 48 103 156 81 45 41 38 49...\n",
              "12       219 213 206 202 209 217 216 215 219 218 223 23...\n",
              "13       148 144 130 129 119 122 129 131 139 153 140 12...\n",
              "14       4 2 13 41 56 62 67 87 95 62 65 70 80 107 127 1...\n",
              "15       107 107 109 109 109 109 110 101 123 140 144 14...\n",
              "16       14 14 18 28 27 22 21 30 42 61 77 86 88 95 100 ...\n",
              "17       255 255 255 255 255 255 255 255 255 255 255 25...\n",
              "18       134 124 167 180 197 194 203 210 204 203 209 20...\n",
              "19       219 192 179 148 208 254 192 98 121 103 145 185...\n",
              "20       1 1 1 1 1 1 1 1 1 1 1 1 2 2 2 2 7 12 23 45 38 ...\n",
              "21       174 51 37 37 38 41 22 25 22 24 35 51 70 83 98 ...\n",
              "22       123 125 124 142 209 226 234 236 231 232 235 22...\n",
              "23       8 9 14 21 26 32 37 46 52 62 72 70 71 73 76 83 ...\n",
              "24       252 250 246 229 182 140 98 72 53 44 67 95 95 8...\n",
              "25       224 227 219 217 215 210 187 177 189 200 206 21...\n",
              "26       162 200 187 180 197 198 196 192 176 152 136 11...\n",
              "27       236 230 225 226 228 209 199 193 196 211 199 19...\n",
              "28       210 210 210 210 211 207 147 103 68 60 47 70 12...\n",
              "29       50 44 74 141 187 187 169 113 80 128 181 172 76...\n",
              "                               ...                        \n",
              "35857    253 255 229 150 89 61 54 60 55 49 61 50 56 45 ...\n",
              "35858    11 11 11 13 20 27 38 41 38 34 20 13 10 39 85 1...\n",
              "35859    11 13 16 27 24 26 89 161 190 197 201 206 210 2...\n",
              "35860    27 42 62 91 112 118 122 123 119 124 129 131 13...\n",
              "35861    233 232 208 188 194 179 177 167 157 180 185 19...\n",
              "35862    73 54 63 76 82 71 67 69 73 72 92 98 117 119 14...\n",
              "35863    196 196 197 197 198 198 198 196 176 148 122 10...\n",
              "35864    68 59 65 78 118 131 137 141 142 135 135 137 13...\n",
              "35865    102 109 109 106 104 107 112 109 116 119 117 12...\n",
              "35866    87 82 59 61 72 102 143 130 90 95 143 173 146 1...\n",
              "35867    198 198 197 196 196 197 196 196 196 195 196 18...\n",
              "35868    204 209 215 218 214 214 214 217 205 175 170 16...\n",
              "35869    217 220 222 223 223 224 225 223 223 225 223 22...\n",
              "35870    6 8 4 5 30 48 61 70 76 79 98 117 130 137 143 1...\n",
              "35871    112 102 98 89 98 133 164 185 180 179 185 169 1...\n",
              "35872    131 159 90 59 10 0 1 1 1 0 1 1 0 0 2 2 5 7 9 1...\n",
              "35873    54 57 77 122 121 76 73 80 58 22 26 27 35 41 66...\n",
              "35874    43 43 51 73 94 97 102 95 99 107 126 144 154 17...\n",
              "35875    248 251 239 144 102 95 82 77 91 138 153 145 14...\n",
              "35876    29 29 27 31 49 56 29 19 22 20 34 43 55 71 85 9...\n",
              "35877    139 143 145 154 159 168 176 181 190 191 195 19...\n",
              "35878    0 39 81 80 104 97 51 64 68 46 41 67 53 68 70 5...\n",
              "35879    0 0 6 16 19 31 47 18 26 19 17 8 15 3 4 2 14 20...\n",
              "35880    164 172 175 171 172 173 178 181 188 192 197 20...\n",
              "35881    181 177 176 156 178 144 136 132 122 107 131 16...\n",
              "35882    50 36 17 22 23 29 33 39 34 37 37 37 39 43 48 5...\n",
              "35883    178 174 172 173 181 188 191 194 196 199 200 20...\n",
              "35884    17 17 16 23 28 22 19 17 25 26 20 24 31 19 27 9...\n",
              "35885    30 28 28 29 31 30 42 68 79 81 77 67 67 71 63 6...\n",
              "35886    19 13 14 12 13 16 21 33 50 57 71 84 97 108 122...\n",
              "Name:  pixels, Length: 35887, dtype: object"
            ]
          },
          "metadata": {
            "tags": []
          },
          "execution_count": 9
        }
      ]
    },
    {
      "cell_type": "code",
      "metadata": {
        "scrolled": true,
        "id": "e0o0aMSqSHDX"
      },
      "source": [
        "import collections"
      ],
      "execution_count": null,
      "outputs": []
    },
    {
      "cell_type": "code",
      "metadata": {
        "id": "WXkoayl-SHDY"
      },
      "source": [
        "#showing num for each emotions"
      ],
      "execution_count": null,
      "outputs": []
    },
    {
      "cell_type": "code",
      "metadata": {
        "id": "liiRb9tbSHDZ",
        "outputId": "dff2497e-e966-485e-a19b-b14c2629044f"
      },
      "source": [
        "collections.Counter(np.array(df['emotion']))"
      ],
      "execution_count": null,
      "outputs": [
        {
          "output_type": "execute_result",
          "data": {
            "text/plain": [
              "Counter({0: 4953, 2: 5121, 4: 6077, 6: 6198, 3: 8989, 5: 4002, 1: 547})"
            ]
          },
          "metadata": {
            "tags": []
          },
          "execution_count": 17
        }
      ]
    },
    {
      "cell_type": "code",
      "metadata": {
        "id": "gN2jK4OjSHDZ",
        "outputId": "27b81991-46ab-42f0-a648-4c18f7aa0639"
      },
      "source": [
        "df[' pixels'][0]"
      ],
      "execution_count": null,
      "outputs": [
        {
          "output_type": "execute_result",
          "data": {
            "text/plain": [
              "'70 80 82 72 58 58 60 63 54 58 60 48 89 115 121 119 115 110 98 91 84 84 90 99 110 126 143 153 158 171 169 172 169 165 129 110 113 107 95 79 66 62 56 57 61 52 43 41 65 61 58 57 56 69 75 70 65 56 54 105 146 154 151 151 155 155 150 147 147 148 152 158 164 172 177 182 186 189 188 190 188 180 167 116 95 103 97 77 72 62 55 58 54 56 52 44 50 43 54 64 63 71 68 64 52 66 119 156 161 164 163 164 167 168 170 174 175 176 178 179 183 187 190 195 197 198 197 198 195 191 190 145 86 100 90 65 57 60 54 51 41 49 56 47 38 44 63 55 46 52 54 55 83 138 157 158 165 168 172 171 173 176 179 179 180 182 185 187 189 189 192 197 200 199 196 198 200 198 197 177 91 87 96 58 58 59 51 42 37 41 47 45 37 35 36 30 41 47 59 94 141 159 161 161 164 170 171 172 176 178 179 182 183 183 187 189 192 192 194 195 200 200 199 199 200 201 197 193 111 71 108 69 55 61 51 42 43 56 54 44 24 29 31 45 61 72 100 136 150 159 163 162 163 170 172 171 174 177 177 180 187 186 187 189 192 192 194 195 196 197 199 200 201 200 197 201 137 58 98 92 57 62 53 47 41 40 51 43 24 35 52 63 75 104 129 143 149 158 162 164 166 171 173 172 174 178 178 179 187 188 188 191 193 194 195 198 199 199 197 198 197 197 197 201 164 52 78 87 69 58 56 50 54 39 44 42 26 31 49 65 91 119 134 145 147 152 159 163 167 171 170 169 174 178 178 179 187 187 185 187 190 188 187 191 197 201 199 199 200 197 196 197 182 58 62 77 61 60 55 49 59 52 54 44 22 30 47 68 102 123 136 144 148 150 153 157 167 172 173 170 171 177 179 178 186 190 186 189 196 193 191 194 190 190 192 197 201 203 199 194 189 69 48 74 56 60 57 50 59 59 51 41 20 34 47 79 111 132 139 143 145 147 150 151 160 169 172 171 167 171 177 177 174 180 182 181 192 196 189 192 198 195 194 196 198 201 202 195 189 70 39 69 61 61 61 53 59 59 45 40 26 40 61 93 124 135 138 142 144 146 151 152 158 165 168 168 165 161 164 173 172 167 172 167 180 198 198 193 199 195 194 198 200 198 197 195 190 65 35 68 59 59 62 57 60 59 50 44 32 54 90 115 132 137 138 140 144 146 146 156 165 168 174 176 176 175 168 168 169 171 175 171 172 192 194 184 198 205 201 194 195 193 195 192 186 57 38 72 65 57 62 58 57 60 54 49 47 79 116 130 138 141 141 139 141 143 145 157 164 164 166 173 174 176 179 179 176 181 189 188 173 180 175 160 182 189 198 192 189 190 190 188 172 46 44 64 66 59 62 57 56 62 53 50 66 103 133 137 141 143 141 136 132 131 136 127 118 111 107 108 123 131 143 154 158 166 177 181 175 170 159 148 171 161 176 185 192 194 188 190 162 53 49 58 63 61 61 55 56 61 51 50 81 116 139 142 142 146 144 136 128 119 112 97 85 90 91 88 92 90 80 81 84 106 122 132 144 145 144 147 163 147 163 173 181 190 187 191 167 61 48 53 61 61 58 54 56 61 51 53 89 123 140 144 145 146 147 136 122 107 99 95 92 90 87 83 76 67 52 46 52 63 69 83 96 119 132 148 159 136 137 143 138 143 152 156 156 70 48 50 59 61 57 54 54 61 52 56 93 124 135 140 144 148 150 140 125 114 101 80 54 56 54 41 41 33 40 39 35 49 60 63 74 107 129 147 147 116 111 100 77 76 86 108 111 73 49 50 60 62 60 57 55 63 59 56 89 121 134 139 146 151 152 150 141 127 111 96 77 85 70 32 31 37 91 65 50 48 59 73 83 112 136 155 130 60 46 38 40 43 81 116 91 72 52 48 58 62 62 59 53 61 59 52 85 114 134 140 147 154 159 158 153 145 143 150 126 121 125 68 45 89 137 95 70 78 75 95 109 131 153 171 94 23 16 32 82 82 65 113 77 71 54 48 56 62 62 60 53 60 56 52 75 108 133 141 149 158 166 169 167 163 156 155 146 112 119 134 127 142 140 121 117 129 114 120 129 146 174 191 98 46 33 33 109 147 98 109 67 73 55 50 56 64 64 61 58 61 53 54 64 106 129 140 148 159 169 175 176 174 165 159 156 145 120 115 124 127 131 133 141 147 142 141 147 161 182 202 154 114 96 100 158 158 153 123 61 76 57 48 56 64 64 63 62 61 54 55 44 97 131 137 147 158 168 177 181 183 179 170 168 169 165 155 152 151 152 154 162 165 158 153 158 168 187 206 186 147 135 144 145 152 178 115 57 74 58 48 58 64 63 63 59 63 55 53 66 104 130 132 144 153 162 170 180 185 187 181 178 182 180 177 173 171 171 177 176 172 164 161 167 164 185 207 197 173 152 141 141 161 191 104 54 69 60 48 57 65 62 60 57 64 55 50 94 111 124 130 135 150 159 163 172 179 184 184 178 178 177 173 171 174 177 178 176 169 165 161 163 161 180 205 201 183 171 177 178 180 194 101 55 65 60 47 55 65 63 59 58 63 57 52 90 105 117 122 130 143 153 157 163 171 174 182 183 182 178 174 175 175 177 175 172 163 161 159 157 162 178 200 201 188 181 172 177 187 198 98 57 63 61 48 52 61 64 63 60 65 57 51 95 104 113 117 127 136 145 152 156 162 162 165 173 177 182 183 183 180 181 177 165 153 154 152 153 160 174 193 200 188 185 180 182 192 196 101 60 60 56 49 50 60 66 64 62 64 59 53 99 104 111 112 118 132 142 147 155 158 160 159 162 171 176 184 186 183 180 169 154 141 135 145 155 164 180 196 205 188 189 188 189 193 192 98 61 64 55 49 49 60 66 63 64 63 60 57 99 105 108 112 113 125 139 143 150 155 158 164 169 174 176 182 183 182 177 163 141 133 147 151 164 170 185 200 210 194 188 192 186 185 180 88 64 67 60 46 50 59 65 64 64 64 59 56 101 103 108 109 109 118 134 143 143 147 155 159 166 171 174 177 179 178 172 153 129 143 161 159 166 171 186 197 207 203 185 191 183 179 164 73 67 67 66 48 50 57 65 65 63 64 61 57 103 108 114 112 110 115 128 138 144 145 152 156 159 164 168 172 172 169 161 139 125 147 156 161 162 164 180 188 188 197 185 187 181 180 137 65 70 68 70 52 47 53 62 65 63 65 61 58 105 109 112 120 113 112 122 134 141 149 150 153 155 159 164 167 167 162 152 134 115 126 119 106 99 109 141 158 150 155 175 184 176 175 106 63 70 68 68 50 46 50 57 63 63 64 61 59 107 110 110 117 117 114 117 128 137 147 148 150 153 156 161 162 163 156 150 148 105 70 45 26 25 47 73 74 79 128 177 180 173 157 77 66 68 67 68 52 49 51 56 62 62 62 62 60 101 107 108 114 115 114 117 125 134 143 148 149 152 154 158 160 158 155 160 158 132 88 73 73 64 52 66 91 138 160 174 173 171 125 64 67 63 64 68 54 50 49 54 60 60 60 62 60 98 105 105 109 111 114 117 125 131 139 145 148 153 153 156 157 156 161 168 165 153 139 122 115 105 89 103 150 182 161 171 173 162 89 64 64 62 64 69 56 48 49 56 58 60 59 62 60 89 99 108 106 109 111 119 120 125 134 140 146 152 153 153 153 156 159 162 160 150 136 129 133 133 122 133 148 178 168 168 175 132 61 67 66 65 63 69 57 47 50 55 58 59 61 62 60 89 96 105 107 105 107 117 120 123 124 133 141 149 153 151 145 151 145 139 140 138 128 126 124 129 125 136 142 164 172 168 168 87 58 67 63 62 61 69 57 39 44 55 56 59 63 62 62 84 91 92 98 102 103 113 119 121 118 128 138 146 151 147 142 140 128 127 128 129 126 135 140 135 130 143 146 149 166 174 131 62 65 62 59 67 63 68 83 89 65 42 52 60 60 62 63 77 84 84 91 99 101 107 112 117 118 122 134 145 149 144 134 127 127 129 130 134 125 126 132 152 153 151 150 151 165 171 87 59 65 64 61 58 86 122 138 208 207 154 71 52 56 55 56 69 77 83 85 93 91 102 112 116 118 119 127 140 144 142 131 112 95 85 75 62 58 56 59 87 88 83 127 142 165 149 62 65 62 59 77 113 192 156 84 185 196 197 168 81 70 75 69 58 65 73 82 81 79 95 107 114 116 116 123 136 142 136 132 131 102 71 58 49 41 33 41 36 49 60 99 136 168 111 53 63 71 138 186 203 195 146 87 91 72 79 95 103 82 61 74 55 57 68 75 76 77 84 96 106 110 111 121 130 138 136 142 153 159 152 152 154 145 133 136 147 158 156 155 147 158 74 57 60 123 181 174 126 89 72 67 57 43 55 67 76 86 60 45 51 45 52 68 75 73 77 88 96 100 104 113 115 121 134 146 149 146 149 148 155 168 174 179 178 169 169 174 161 131 44 47 82 150 168 136 104 75 66 80 67 58 48 54 68 88 121 102 51 45 38 53 66 65 70 86 92 96 102 103 109 116 130 136 136 133 136 138 137 135 128 130 143 158 165 164 147 87 62 74 123 160 170 100 99 107 79 71 86 75 57 45 49 65 122 130 43 48 40 39 55 61 59 71 82 87 88 93 105 118 123 128 130 124 111 98 94 88 67 55 84 129 147 148 105 48 82 142 161 164 164 76 72 85 100 88 72 90 84 54 48 54 73 100 73 36 44 31 37 53 51 55 67 74 77 87 97 108 118 125 132 122 106 86 80 82 75 73 83 110 129 126 46 22 130 177 196 193 166 72 52 54 73 100 92 75 99 95 65 68 61 63 91 65 42 37 22 28 39 44 57 68 74 83 92 101 119 131 143 141 134 136 140 139 134 136 139 138 136 85 23 114 202 198 199 180 173 98 36 86 130 150 137 99 77 101 99 72 56 43 77 82 79 70 56 28 20 25 36 50 63 73 83 98 111 124 139 156 160 159 169 168 165 163 159 149 114 43 26 133 183 192 177 152 137 130 125 139 173 195 186 137 101 88 101 105 70 46 77 72 84 87 87 81 64 37 20 31 40 46 65 88 108 110 125 149 157 153 162 164 158 159 154 140 78 21 11 61 144 168 173 157 138 150 148 132 159 182 183 136 106 116 95 106 109 82'"
            ]
          },
          "metadata": {
            "tags": []
          },
          "execution_count": 19
        }
      ]
    },
    {
      "cell_type": "code",
      "metadata": {
        "id": "Inwgbb_mSHDZ"
      },
      "source": [
        "img=df[' pixels'][920]"
      ],
      "execution_count": null,
      "outputs": []
    },
    {
      "cell_type": "code",
      "metadata": {
        "id": "SbpAau9jSHDa"
      },
      "source": [
        "#spliting on the basis of space and reshaping it to make it in the form of image and changing type to float"
      ],
      "execution_count": null,
      "outputs": []
    },
    {
      "cell_type": "code",
      "metadata": {
        "id": "JoN4R7DHSHDa"
      },
      "source": [
        "img=np.array(img.split(' ')).reshape(48,48,1).astype('float32')"
      ],
      "execution_count": null,
      "outputs": []
    },
    {
      "cell_type": "code",
      "metadata": {
        "id": "RhWS63lfSHDa",
        "outputId": "bba5fabe-3233-4c0f-f337-c2ed9ee3a6e3"
      },
      "source": [
        "img.shape"
      ],
      "execution_count": null,
      "outputs": [
        {
          "output_type": "execute_result",
          "data": {
            "text/plain": [
              "(48, 48, 1)"
            ]
          },
          "metadata": {
            "tags": []
          },
          "execution_count": 23
        }
      ]
    },
    {
      "cell_type": "code",
      "metadata": {
        "id": "gVvDMbw8SHDb",
        "outputId": "09a4b4e2-4443-42f1-c185-efd3a36ea7cd"
      },
      "source": [
        "plt.imshow(img.squeeze(),cmap='gray')"
      ],
      "execution_count": null,
      "outputs": [
        {
          "output_type": "execute_result",
          "data": {
            "text/plain": [
              "<matplotlib.image.AxesImage at 0x21811ef4c50>"
            ]
          },
          "metadata": {
            "tags": []
          },
          "execution_count": 25
        },
        {
          "output_type": "display_data",
          "data": {
            "image/png": "[encoded data removed]",
            "text/plain": [
              "<Figure size 432x288 with 1 Axes>"
            ]
          },
          "metadata": {
            "tags": [],
            "needs_background": "light"
          }
        }
      ]
    },
    {
      "cell_type": "code",
      "metadata": {
        "id": "mDXCo0I2SHDb"
      },
      "source": [
        "#making empty array "
      ],
      "execution_count": null,
      "outputs": []
    },
    {
      "cell_type": "code",
      "metadata": {
        "id": "AAhzxvRhSHDc"
      },
      "source": [
        "images_list=np.zeros((len(df),48,48,1))"
      ],
      "execution_count": null,
      "outputs": []
    },
    {
      "cell_type": "code",
      "metadata": {
        "id": "6azB4-eUSHDc",
        "outputId": "f5d90477-028a-46fb-b3f8-32f8d7995b6b"
      },
      "source": [
        "images_list.shape"
      ],
      "execution_count": null,
      "outputs": [
        {
          "output_type": "execute_result",
          "data": {
            "text/plain": [
              "(35887, 48, 48, 1)"
            ]
          },
          "metadata": {
            "tags": []
          },
          "execution_count": 28
        }
      ]
    },
    {
      "cell_type": "code",
      "metadata": {
        "id": "uGV-tYONSHDc"
      },
      "source": [
        "#adding labels(Y)"
      ],
      "execution_count": null,
      "outputs": []
    },
    {
      "cell_type": "code",
      "metadata": {
        "id": "LDRUo30OSHDd"
      },
      "source": [
        "images_label=pd.get_dummies(df['emotion'])"
      ],
      "execution_count": null,
      "outputs": []
    },
    {
      "cell_type": "code",
      "metadata": {
        "id": "K8xcRaYFSHDd",
        "outputId": "f152ce75-4b52-4ad7-e682-0440d753c26c"
      },
      "source": [
        "images_label"
      ],
      "execution_count": null,
      "outputs": [
        {
          "output_type": "execute_result",
          "data": {
            "text/html": [
              "<div>\n",
              "<style scoped>\n",
              "    .dataframe tbody tr th:only-of-type {\n",
              "        vertical-align: middle;\n",
              "    }\n",
              "\n",
              "    .dataframe tbody tr th {\n",
              "        vertical-align: top;\n",
              "    }\n",
              "\n",
              "    .dataframe thead th {\n",
              "        text-align: right;\n",
              "    }\n",
              "</style>\n",
              "<table border=\"1\" class=\"dataframe\">\n",
              "  <thead>\n",
              "    <tr style=\"text-align: right;\">\n",
              "      <th></th>\n",
              "      <th>0</th>\n",
              "      <th>1</th>\n",
              "      <th>2</th>\n",
              "      <th>3</th>\n",
              "      <th>4</th>\n",
              "      <th>5</th>\n",
              "      <th>6</th>\n",
              "    </tr>\n",
              "  </thead>\n",
              "  <tbody>\n",
              "    <tr>\n",
              "      <th>0</th>\n",
              "      <td>1</td>\n",
              "      <td>0</td>\n",
              "      <td>0</td>\n",
              "      <td>0</td>\n",
              "      <td>0</td>\n",
              "      <td>0</td>\n",
              "      <td>0</td>\n",
              "    </tr>\n",
              "    <tr>\n",
              "      <th>1</th>\n",
              "      <td>1</td>\n",
              "      <td>0</td>\n",
              "      <td>0</td>\n",
              "      <td>0</td>\n",
              "      <td>0</td>\n",
              "      <td>0</td>\n",
              "      <td>0</td>\n",
              "    </tr>\n",
              "    <tr>\n",
              "      <th>2</th>\n",
              "      <td>0</td>\n",
              "      <td>0</td>\n",
              "      <td>1</td>\n",
              "      <td>0</td>\n",
              "      <td>0</td>\n",
              "      <td>0</td>\n",
              "      <td>0</td>\n",
              "    </tr>\n",
              "    <tr>\n",
              "      <th>3</th>\n",
              "      <td>0</td>\n",
              "      <td>0</td>\n",
              "      <td>0</td>\n",
              "      <td>0</td>\n",
              "      <td>1</td>\n",
              "      <td>0</td>\n",
              "      <td>0</td>\n",
              "    </tr>\n",
              "    <tr>\n",
              "      <th>4</th>\n",
              "      <td>0</td>\n",
              "      <td>0</td>\n",
              "      <td>0</td>\n",
              "      <td>0</td>\n",
              "      <td>0</td>\n",
              "      <td>0</td>\n",
              "      <td>1</td>\n",
              "    </tr>\n",
              "    <tr>\n",
              "      <th>5</th>\n",
              "      <td>0</td>\n",
              "      <td>0</td>\n",
              "      <td>1</td>\n",
              "      <td>0</td>\n",
              "      <td>0</td>\n",
              "      <td>0</td>\n",
              "      <td>0</td>\n",
              "    </tr>\n",
              "    <tr>\n",
              "      <th>6</th>\n",
              "      <td>0</td>\n",
              "      <td>0</td>\n",
              "      <td>0</td>\n",
              "      <td>0</td>\n",
              "      <td>1</td>\n",
              "      <td>0</td>\n",
              "      <td>0</td>\n",
              "    </tr>\n",
              "    <tr>\n",
              "      <th>7</th>\n",
              "      <td>0</td>\n",
              "      <td>0</td>\n",
              "      <td>0</td>\n",
              "      <td>1</td>\n",
              "      <td>0</td>\n",
              "      <td>0</td>\n",
              "      <td>0</td>\n",
              "    </tr>\n",
              "    <tr>\n",
              "      <th>8</th>\n",
              "      <td>0</td>\n",
              "      <td>0</td>\n",
              "      <td>0</td>\n",
              "      <td>1</td>\n",
              "      <td>0</td>\n",
              "      <td>0</td>\n",
              "      <td>0</td>\n",
              "    </tr>\n",
              "    <tr>\n",
              "      <th>9</th>\n",
              "      <td>0</td>\n",
              "      <td>0</td>\n",
              "      <td>1</td>\n",
              "      <td>0</td>\n",
              "      <td>0</td>\n",
              "      <td>0</td>\n",
              "      <td>0</td>\n",
              "    </tr>\n",
              "    <tr>\n",
              "      <th>10</th>\n",
              "      <td>1</td>\n",
              "      <td>0</td>\n",
              "      <td>0</td>\n",
              "      <td>0</td>\n",
              "      <td>0</td>\n",
              "      <td>0</td>\n",
              "      <td>0</td>\n",
              "    </tr>\n",
              "    <tr>\n",
              "      <th>11</th>\n",
              "      <td>0</td>\n",
              "      <td>0</td>\n",
              "      <td>0</td>\n",
              "      <td>0</td>\n",
              "      <td>0</td>\n",
              "      <td>0</td>\n",
              "      <td>1</td>\n",
              "    </tr>\n",
              "    <tr>\n",
              "      <th>12</th>\n",
              "      <td>0</td>\n",
              "      <td>0</td>\n",
              "      <td>0</td>\n",
              "      <td>0</td>\n",
              "      <td>0</td>\n",
              "      <td>0</td>\n",
              "      <td>1</td>\n",
              "    </tr>\n",
              "    <tr>\n",
              "      <th>13</th>\n",
              "      <td>0</td>\n",
              "      <td>0</td>\n",
              "      <td>0</td>\n",
              "      <td>0</td>\n",
              "      <td>0</td>\n",
              "      <td>0</td>\n",
              "      <td>1</td>\n",
              "    </tr>\n",
              "    <tr>\n",
              "      <th>14</th>\n",
              "      <td>0</td>\n",
              "      <td>0</td>\n",
              "      <td>0</td>\n",
              "      <td>1</td>\n",
              "      <td>0</td>\n",
              "      <td>0</td>\n",
              "      <td>0</td>\n",
              "    </tr>\n",
              "    <tr>\n",
              "      <th>15</th>\n",
              "      <td>0</td>\n",
              "      <td>0</td>\n",
              "      <td>0</td>\n",
              "      <td>0</td>\n",
              "      <td>0</td>\n",
              "      <td>1</td>\n",
              "      <td>0</td>\n",
              "    </tr>\n",
              "    <tr>\n",
              "      <th>16</th>\n",
              "      <td>0</td>\n",
              "      <td>0</td>\n",
              "      <td>0</td>\n",
              "      <td>1</td>\n",
              "      <td>0</td>\n",
              "      <td>0</td>\n",
              "      <td>0</td>\n",
              "    </tr>\n",
              "    <tr>\n",
              "      <th>17</th>\n",
              "      <td>0</td>\n",
              "      <td>0</td>\n",
              "      <td>1</td>\n",
              "      <td>0</td>\n",
              "      <td>0</td>\n",
              "      <td>0</td>\n",
              "      <td>0</td>\n",
              "    </tr>\n",
              "    <tr>\n",
              "      <th>18</th>\n",
              "      <td>0</td>\n",
              "      <td>0</td>\n",
              "      <td>0</td>\n",
              "      <td>0</td>\n",
              "      <td>0</td>\n",
              "      <td>0</td>\n",
              "      <td>1</td>\n",
              "    </tr>\n",
              "    <tr>\n",
              "      <th>19</th>\n",
              "      <td>0</td>\n",
              "      <td>0</td>\n",
              "      <td>0</td>\n",
              "      <td>0</td>\n",
              "      <td>1</td>\n",
              "      <td>0</td>\n",
              "      <td>0</td>\n",
              "    </tr>\n",
              "    <tr>\n",
              "      <th>20</th>\n",
              "      <td>0</td>\n",
              "      <td>0</td>\n",
              "      <td>0</td>\n",
              "      <td>0</td>\n",
              "      <td>1</td>\n",
              "      <td>0</td>\n",
              "      <td>0</td>\n",
              "    </tr>\n",
              "    <tr>\n",
              "      <th>21</th>\n",
              "      <td>0</td>\n",
              "      <td>0</td>\n",
              "      <td>1</td>\n",
              "      <td>0</td>\n",
              "      <td>0</td>\n",
              "      <td>0</td>\n",
              "      <td>0</td>\n",
              "    </tr>\n",
              "    <tr>\n",
              "      <th>22</th>\n",
              "      <td>1</td>\n",
              "      <td>0</td>\n",
              "      <td>0</td>\n",
              "      <td>0</td>\n",
              "      <td>0</td>\n",
              "      <td>0</td>\n",
              "      <td>0</td>\n",
              "    </tr>\n",
              "    <tr>\n",
              "      <th>23</th>\n",
              "      <td>1</td>\n",
              "      <td>0</td>\n",
              "      <td>0</td>\n",
              "      <td>0</td>\n",
              "      <td>0</td>\n",
              "      <td>0</td>\n",
              "      <td>0</td>\n",
              "    </tr>\n",
              "    <tr>\n",
              "      <th>24</th>\n",
              "      <td>0</td>\n",
              "      <td>0</td>\n",
              "      <td>0</td>\n",
              "      <td>1</td>\n",
              "      <td>0</td>\n",
              "      <td>0</td>\n",
              "      <td>0</td>\n",
              "    </tr>\n",
              "    <tr>\n",
              "      <th>25</th>\n",
              "      <td>0</td>\n",
              "      <td>0</td>\n",
              "      <td>0</td>\n",
              "      <td>1</td>\n",
              "      <td>0</td>\n",
              "      <td>0</td>\n",
              "      <td>0</td>\n",
              "    </tr>\n",
              "    <tr>\n",
              "      <th>26</th>\n",
              "      <td>0</td>\n",
              "      <td>0</td>\n",
              "      <td>0</td>\n",
              "      <td>0</td>\n",
              "      <td>0</td>\n",
              "      <td>1</td>\n",
              "      <td>0</td>\n",
              "    </tr>\n",
              "    <tr>\n",
              "      <th>27</th>\n",
              "      <td>1</td>\n",
              "      <td>0</td>\n",
              "      <td>0</td>\n",
              "      <td>0</td>\n",
              "      <td>0</td>\n",
              "      <td>0</td>\n",
              "      <td>0</td>\n",
              "    </tr>\n",
              "    <tr>\n",
              "      <th>28</th>\n",
              "      <td>0</td>\n",
              "      <td>0</td>\n",
              "      <td>0</td>\n",
              "      <td>1</td>\n",
              "      <td>0</td>\n",
              "      <td>0</td>\n",
              "      <td>0</td>\n",
              "    </tr>\n",
              "    <tr>\n",
              "      <th>29</th>\n",
              "      <td>0</td>\n",
              "      <td>0</td>\n",
              "      <td>0</td>\n",
              "      <td>0</td>\n",
              "      <td>0</td>\n",
              "      <td>1</td>\n",
              "      <td>0</td>\n",
              "    </tr>\n",
              "    <tr>\n",
              "      <th>...</th>\n",
              "      <td>...</td>\n",
              "      <td>...</td>\n",
              "      <td>...</td>\n",
              "      <td>...</td>\n",
              "      <td>...</td>\n",
              "      <td>...</td>\n",
              "      <td>...</td>\n",
              "    </tr>\n",
              "    <tr>\n",
              "      <th>35857</th>\n",
              "      <td>0</td>\n",
              "      <td>0</td>\n",
              "      <td>0</td>\n",
              "      <td>0</td>\n",
              "      <td>0</td>\n",
              "      <td>1</td>\n",
              "      <td>0</td>\n",
              "    </tr>\n",
              "    <tr>\n",
              "      <th>35858</th>\n",
              "      <td>0</td>\n",
              "      <td>0</td>\n",
              "      <td>0</td>\n",
              "      <td>0</td>\n",
              "      <td>1</td>\n",
              "      <td>0</td>\n",
              "      <td>0</td>\n",
              "    </tr>\n",
              "    <tr>\n",
              "      <th>35859</th>\n",
              "      <td>0</td>\n",
              "      <td>0</td>\n",
              "      <td>0</td>\n",
              "      <td>0</td>\n",
              "      <td>1</td>\n",
              "      <td>0</td>\n",
              "      <td>0</td>\n",
              "    </tr>\n",
              "    <tr>\n",
              "      <th>35860</th>\n",
              "      <td>0</td>\n",
              "      <td>0</td>\n",
              "      <td>0</td>\n",
              "      <td>1</td>\n",
              "      <td>0</td>\n",
              "      <td>0</td>\n",
              "      <td>0</td>\n",
              "    </tr>\n",
              "    <tr>\n",
              "      <th>35861</th>\n",
              "      <td>0</td>\n",
              "      <td>0</td>\n",
              "      <td>0</td>\n",
              "      <td>0</td>\n",
              "      <td>0</td>\n",
              "      <td>0</td>\n",
              "      <td>1</td>\n",
              "    </tr>\n",
              "    <tr>\n",
              "      <th>35862</th>\n",
              "      <td>0</td>\n",
              "      <td>0</td>\n",
              "      <td>1</td>\n",
              "      <td>0</td>\n",
              "      <td>0</td>\n",
              "      <td>0</td>\n",
              "      <td>0</td>\n",
              "    </tr>\n",
              "    <tr>\n",
              "      <th>35863</th>\n",
              "      <td>0</td>\n",
              "      <td>0</td>\n",
              "      <td>0</td>\n",
              "      <td>0</td>\n",
              "      <td>0</td>\n",
              "      <td>1</td>\n",
              "      <td>0</td>\n",
              "    </tr>\n",
              "    <tr>\n",
              "      <th>35864</th>\n",
              "      <td>0</td>\n",
              "      <td>0</td>\n",
              "      <td>0</td>\n",
              "      <td>0</td>\n",
              "      <td>1</td>\n",
              "      <td>0</td>\n",
              "      <td>0</td>\n",
              "    </tr>\n",
              "    <tr>\n",
              "      <th>35865</th>\n",
              "      <td>0</td>\n",
              "      <td>0</td>\n",
              "      <td>0</td>\n",
              "      <td>1</td>\n",
              "      <td>0</td>\n",
              "      <td>0</td>\n",
              "      <td>0</td>\n",
              "    </tr>\n",
              "    <tr>\n",
              "      <th>35866</th>\n",
              "      <td>0</td>\n",
              "      <td>0</td>\n",
              "      <td>0</td>\n",
              "      <td>0</td>\n",
              "      <td>0</td>\n",
              "      <td>0</td>\n",
              "      <td>1</td>\n",
              "    </tr>\n",
              "    <tr>\n",
              "      <th>35867</th>\n",
              "      <td>0</td>\n",
              "      <td>0</td>\n",
              "      <td>0</td>\n",
              "      <td>1</td>\n",
              "      <td>0</td>\n",
              "      <td>0</td>\n",
              "      <td>0</td>\n",
              "    </tr>\n",
              "    <tr>\n",
              "      <th>35868</th>\n",
              "      <td>0</td>\n",
              "      <td>0</td>\n",
              "      <td>1</td>\n",
              "      <td>0</td>\n",
              "      <td>0</td>\n",
              "      <td>0</td>\n",
              "      <td>0</td>\n",
              "    </tr>\n",
              "    <tr>\n",
              "      <th>35869</th>\n",
              "      <td>0</td>\n",
              "      <td>0</td>\n",
              "      <td>0</td>\n",
              "      <td>1</td>\n",
              "      <td>0</td>\n",
              "      <td>0</td>\n",
              "      <td>0</td>\n",
              "    </tr>\n",
              "    <tr>\n",
              "      <th>35870</th>\n",
              "      <td>0</td>\n",
              "      <td>0</td>\n",
              "      <td>1</td>\n",
              "      <td>0</td>\n",
              "      <td>0</td>\n",
              "      <td>0</td>\n",
              "      <td>0</td>\n",
              "    </tr>\n",
              "    <tr>\n",
              "      <th>35871</th>\n",
              "      <td>0</td>\n",
              "      <td>0</td>\n",
              "      <td>0</td>\n",
              "      <td>0</td>\n",
              "      <td>0</td>\n",
              "      <td>0</td>\n",
              "      <td>1</td>\n",
              "    </tr>\n",
              "    <tr>\n",
              "      <th>35872</th>\n",
              "      <td>0</td>\n",
              "      <td>0</td>\n",
              "      <td>0</td>\n",
              "      <td>0</td>\n",
              "      <td>0</td>\n",
              "      <td>1</td>\n",
              "      <td>0</td>\n",
              "    </tr>\n",
              "    <tr>\n",
              "      <th>35873</th>\n",
              "      <td>0</td>\n",
              "      <td>0</td>\n",
              "      <td>0</td>\n",
              "      <td>0</td>\n",
              "      <td>1</td>\n",
              "      <td>0</td>\n",
              "      <td>0</td>\n",
              "    </tr>\n",
              "    <tr>\n",
              "      <th>35874</th>\n",
              "      <td>0</td>\n",
              "      <td>0</td>\n",
              "      <td>0</td>\n",
              "      <td>0</td>\n",
              "      <td>0</td>\n",
              "      <td>1</td>\n",
              "      <td>0</td>\n",
              "    </tr>\n",
              "    <tr>\n",
              "      <th>35875</th>\n",
              "      <td>0</td>\n",
              "      <td>0</td>\n",
              "      <td>0</td>\n",
              "      <td>0</td>\n",
              "      <td>0</td>\n",
              "      <td>1</td>\n",
              "      <td>0</td>\n",
              "    </tr>\n",
              "    <tr>\n",
              "      <th>35876</th>\n",
              "      <td>0</td>\n",
              "      <td>0</td>\n",
              "      <td>0</td>\n",
              "      <td>0</td>\n",
              "      <td>0</td>\n",
              "      <td>0</td>\n",
              "      <td>1</td>\n",
              "    </tr>\n",
              "    <tr>\n",
              "      <th>35877</th>\n",
              "      <td>0</td>\n",
              "      <td>0</td>\n",
              "      <td>0</td>\n",
              "      <td>0</td>\n",
              "      <td>0</td>\n",
              "      <td>0</td>\n",
              "      <td>1</td>\n",
              "    </tr>\n",
              "    <tr>\n",
              "      <th>35878</th>\n",
              "      <td>0</td>\n",
              "      <td>0</td>\n",
              "      <td>0</td>\n",
              "      <td>1</td>\n",
              "      <td>0</td>\n",
              "      <td>0</td>\n",
              "      <td>0</td>\n",
              "    </tr>\n",
              "    <tr>\n",
              "      <th>35879</th>\n",
              "      <td>0</td>\n",
              "      <td>0</td>\n",
              "      <td>1</td>\n",
              "      <td>0</td>\n",
              "      <td>0</td>\n",
              "      <td>0</td>\n",
              "      <td>0</td>\n",
              "    </tr>\n",
              "    <tr>\n",
              "      <th>35880</th>\n",
              "      <td>0</td>\n",
              "      <td>0</td>\n",
              "      <td>1</td>\n",
              "      <td>0</td>\n",
              "      <td>0</td>\n",
              "      <td>0</td>\n",
              "      <td>0</td>\n",
              "    </tr>\n",
              "    <tr>\n",
              "      <th>35881</th>\n",
              "      <td>1</td>\n",
              "      <td>0</td>\n",
              "      <td>0</td>\n",
              "      <td>0</td>\n",
              "      <td>0</td>\n",
              "      <td>0</td>\n",
              "      <td>0</td>\n",
              "    </tr>\n",
              "    <tr>\n",
              "      <th>35882</th>\n",
              "      <td>0</td>\n",
              "      <td>0</td>\n",
              "      <td>0</td>\n",
              "      <td>0</td>\n",
              "      <td>0</td>\n",
              "      <td>0</td>\n",
              "      <td>1</td>\n",
              "    </tr>\n",
              "    <tr>\n",
              "      <th>35883</th>\n",
              "      <td>0</td>\n",
              "      <td>0</td>\n",
              "      <td>0</td>\n",
              "      <td>1</td>\n",
              "      <td>0</td>\n",
              "      <td>0</td>\n",
              "      <td>0</td>\n",
              "    </tr>\n",
              "    <tr>\n",
              "      <th>35884</th>\n",
              "      <td>1</td>\n",
              "      <td>0</td>\n",
              "      <td>0</td>\n",
              "      <td>0</td>\n",
              "      <td>0</td>\n",
              "      <td>0</td>\n",
              "      <td>0</td>\n",
              "    </tr>\n",
              "    <tr>\n",
              "      <th>35885</th>\n",
              "      <td>0</td>\n",
              "      <td>0</td>\n",
              "      <td>0</td>\n",
              "      <td>1</td>\n",
              "      <td>0</td>\n",
              "      <td>0</td>\n",
              "      <td>0</td>\n",
              "    </tr>\n",
              "    <tr>\n",
              "      <th>35886</th>\n",
              "      <td>0</td>\n",
              "      <td>0</td>\n",
              "      <td>1</td>\n",
              "      <td>0</td>\n",
              "      <td>0</td>\n",
              "      <td>0</td>\n",
              "      <td>0</td>\n",
              "    </tr>\n",
              "  </tbody>\n",
              "</table>\n",
              "<p>35887 rows × 7 columns</p>\n",
              "</div>"
            ],
            "text/plain": [
              "       0  1  2  3  4  5  6\n",
              "0      1  0  0  0  0  0  0\n",
              "1      1  0  0  0  0  0  0\n",
              "2      0  0  1  0  0  0  0\n",
              "3      0  0  0  0  1  0  0\n",
              "4      0  0  0  0  0  0  1\n",
              "5      0  0  1  0  0  0  0\n",
              "6      0  0  0  0  1  0  0\n",
              "7      0  0  0  1  0  0  0\n",
              "8      0  0  0  1  0  0  0\n",
              "9      0  0  1  0  0  0  0\n",
              "10     1  0  0  0  0  0  0\n",
              "11     0  0  0  0  0  0  1\n",
              "12     0  0  0  0  0  0  1\n",
              "13     0  0  0  0  0  0  1\n",
              "14     0  0  0  1  0  0  0\n",
              "15     0  0  0  0  0  1  0\n",
              "16     0  0  0  1  0  0  0\n",
              "17     0  0  1  0  0  0  0\n",
              "18     0  0  0  0  0  0  1\n",
              "19     0  0  0  0  1  0  0\n",
              "20     0  0  0  0  1  0  0\n",
              "21     0  0  1  0  0  0  0\n",
              "22     1  0  0  0  0  0  0\n",
              "23     1  0  0  0  0  0  0\n",
              "24     0  0  0  1  0  0  0\n",
              "25     0  0  0  1  0  0  0\n",
              "26     0  0  0  0  0  1  0\n",
              "27     1  0  0  0  0  0  0\n",
              "28     0  0  0  1  0  0  0\n",
              "29     0  0  0  0  0  1  0\n",
              "...   .. .. .. .. .. .. ..\n",
              "35857  0  0  0  0  0  1  0\n",
              "35858  0  0  0  0  1  0  0\n",
              "35859  0  0  0  0  1  0  0\n",
              "35860  0  0  0  1  0  0  0\n",
              "35861  0  0  0  0  0  0  1\n",
              "35862  0  0  1  0  0  0  0\n",
              "35863  0  0  0  0  0  1  0\n",
              "35864  0  0  0  0  1  0  0\n",
              "35865  0  0  0  1  0  0  0\n",
              "35866  0  0  0  0  0  0  1\n",
              "35867  0  0  0  1  0  0  0\n",
              "35868  0  0  1  0  0  0  0\n",
              "35869  0  0  0  1  0  0  0\n",
              "35870  0  0  1  0  0  0  0\n",
              "35871  0  0  0  0  0  0  1\n",
              "35872  0  0  0  0  0  1  0\n",
              "35873  0  0  0  0  1  0  0\n",
              "35874  0  0  0  0  0  1  0\n",
              "35875  0  0  0  0  0  1  0\n",
              "35876  0  0  0  0  0  0  1\n",
              "35877  0  0  0  0  0  0  1\n",
              "35878  0  0  0  1  0  0  0\n",
              "35879  0  0  1  0  0  0  0\n",
              "35880  0  0  1  0  0  0  0\n",
              "35881  1  0  0  0  0  0  0\n",
              "35882  0  0  0  0  0  0  1\n",
              "35883  0  0  0  1  0  0  0\n",
              "35884  1  0  0  0  0  0  0\n",
              "35885  0  0  0  1  0  0  0\n",
              "35886  0  0  1  0  0  0  0\n",
              "\n",
              "[35887 rows x 7 columns]"
            ]
          },
          "metadata": {
            "tags": []
          },
          "execution_count": 31
        }
      ]
    },
    {
      "cell_type": "code",
      "metadata": {
        "id": "CBD-dB5sSHDd"
      },
      "source": [
        "#making pic for every row\n",
        "#reshape have 4 elements cuz we want to make img of every row"
      ],
      "execution_count": null,
      "outputs": []
    },
    {
      "cell_type": "code",
      "metadata": {
        "id": "h4SemmJOSHDe"
      },
      "source": [
        "for idx in range(len(df)):\n",
        "    single_pic=np.array(df[' pixels'][idx].split(' ')).reshape(1,48,48,1).astype('float32')\n",
        "    images_list[idx]=single_pic"
      ],
      "execution_count": null,
      "outputs": []
    },
    {
      "cell_type": "code",
      "metadata": {
        "scrolled": true,
        "id": "XqrtWFcsSHDe",
        "outputId": "61cead90-03a1-49b9-f75f-05cf7ee6d8c8"
      },
      "source": [
        "images_list.shape"
      ],
      "execution_count": null,
      "outputs": [
        {
          "output_type": "execute_result",
          "data": {
            "text/plain": [
              "(35887, 48, 48, 1)"
            ]
          },
          "metadata": {
            "tags": []
          },
          "execution_count": 32
        }
      ]
    },
    {
      "cell_type": "code",
      "metadata": {
        "id": "fNSjAHm7SHDf",
        "outputId": "7da26233-ba15-4675-d904-c59049e0c0a3"
      },
      "source": [
        "images_list[0].shape"
      ],
      "execution_count": null,
      "outputs": [
        {
          "output_type": "execute_result",
          "data": {
            "text/plain": [
              "(48, 48, 1)"
            ]
          },
          "metadata": {
            "tags": []
          },
          "execution_count": 37
        }
      ]
    },
    {
      "cell_type": "code",
      "metadata": {
        "id": "HKra5FBRSHDf",
        "outputId": "b7ea2f19-7599-4f62-e98f-00034314d6b5"
      },
      "source": [
        "images_list[334].shape"
      ],
      "execution_count": null,
      "outputs": [
        {
          "output_type": "execute_result",
          "data": {
            "text/plain": [
              "(48, 48, 1)"
            ]
          },
          "metadata": {
            "tags": []
          },
          "execution_count": 48
        }
      ]
    },
    {
      "cell_type": "code",
      "metadata": {
        "id": "SbSuOTFPSHDf",
        "outputId": "e9b021b6-38f2-4f28-e3a2-a6d298d8e833"
      },
      "source": [
        "images_list[0]"
      ],
      "execution_count": null,
      "outputs": [
        {
          "output_type": "execute_result",
          "data": {
            "text/plain": [
              "array([[[ 70.],\n",
              "        [ 80.],\n",
              "        [ 82.],\n",
              "        ...,\n",
              "        [ 52.],\n",
              "        [ 43.],\n",
              "        [ 41.]],\n",
              "\n",
              "       [[ 65.],\n",
              "        [ 61.],\n",
              "        [ 58.],\n",
              "        ...,\n",
              "        [ 56.],\n",
              "        [ 52.],\n",
              "        [ 44.]],\n",
              "\n",
              "       [[ 50.],\n",
              "        [ 43.],\n",
              "        [ 54.],\n",
              "        ...,\n",
              "        [ 49.],\n",
              "        [ 56.],\n",
              "        [ 47.]],\n",
              "\n",
              "       ...,\n",
              "\n",
              "       [[ 91.],\n",
              "        [ 65.],\n",
              "        [ 42.],\n",
              "        ...,\n",
              "        [ 72.],\n",
              "        [ 56.],\n",
              "        [ 43.]],\n",
              "\n",
              "       [[ 77.],\n",
              "        [ 82.],\n",
              "        [ 79.],\n",
              "        ...,\n",
              "        [105.],\n",
              "        [ 70.],\n",
              "        [ 46.]],\n",
              "\n",
              "       [[ 77.],\n",
              "        [ 72.],\n",
              "        [ 84.],\n",
              "        ...,\n",
              "        [106.],\n",
              "        [109.],\n",
              "        [ 82.]]])"
            ]
          },
          "metadata": {
            "tags": []
          },
          "execution_count": 47
        }
      ]
    },
    {
      "cell_type": "code",
      "metadata": {
        "id": "08PcI6KzSHDg",
        "outputId": "e12bba2f-b220-4f6a-fc3f-080eca3d5f5b"
      },
      "source": [
        "plt.imshow(images_list[342].squeeze(),cmap='gray')"
      ],
      "execution_count": null,
      "outputs": [
        {
          "output_type": "execute_result",
          "data": {
            "text/plain": [
              "<matplotlib.image.AxesImage at 0x21811ffd9e8>"
            ]
          },
          "metadata": {
            "tags": []
          },
          "execution_count": 56
        },
        {
          "output_type": "display_data",
          "data": {
            "image/png": "[encoded data removed]",
            "text/plain": [
              "<Figure size 432x288 with 1 Axes>"
            ]
          },
          "metadata": {
            "tags": [],
            "needs_background": "light"
          }
        }
      ]
    },
    {
      "cell_type": "code",
      "metadata": {
        "id": "h9mArfS0SHDg",
        "outputId": "446a3c64-ebb3-4c70-f118-ac29b4f0ce2e"
      },
      "source": [
        "df['emotion'].value_counts()"
      ],
      "execution_count": null,
      "outputs": [
        {
          "output_type": "execute_result",
          "data": {
            "text/plain": [
              "3    8989\n",
              "6    6198\n",
              "4    6077\n",
              "2    5121\n",
              "0    4953\n",
              "5    4002\n",
              "1     547\n",
              "Name: emotion, dtype: int64"
            ]
          },
          "metadata": {
            "tags": []
          },
          "execution_count": 52
        }
      ]
    },
    {
      "cell_type": "code",
      "metadata": {
        "id": "RaAsCtVPSHDg",
        "outputId": "bec52e39-a0af-4ee3-b1a3-aa6534d5deb4"
      },
      "source": [
        "df['emotion'].value_counts().index"
      ],
      "execution_count": null,
      "outputs": [
        {
          "output_type": "execute_result",
          "data": {
            "text/plain": [
              "Int64Index([3, 6, 4, 2, 0, 5, 1], dtype='int64')"
            ]
          },
          "metadata": {
            "tags": []
          },
          "execution_count": 53
        }
      ]
    },
    {
      "cell_type": "code",
      "metadata": {
        "id": "IE6TUMviSHDh",
        "outputId": "c5a12e2d-04c2-4ec5-fb92-aa2bcfe85ef4"
      },
      "source": [
        "collections.Counter(np.array(df['emotion']))"
      ],
      "execution_count": null,
      "outputs": [
        {
          "output_type": "execute_result",
          "data": {
            "text/plain": [
              "Counter({0: 4953, 2: 5121, 4: 6077, 6: 6198, 3: 8989, 5: 4002, 1: 547})"
            ]
          },
          "metadata": {
            "tags": []
          },
          "execution_count": 54
        }
      ]
    },
    {
      "cell_type": "code",
      "metadata": {
        "id": "7qAzUPPRSHDh",
        "outputId": "6a7bc805-e2c0-4389-e1ac-ebc50ac7bd8d"
      },
      "source": [
        "import seaborn as sns\n",
        "sns.barplot(x=df['emotion'].value_counts().index, y=df['emotion'].value_counts())\n",
        "plt.title('Number of images per emotion')"
      ],
      "execution_count": null,
      "outputs": [
        {
          "output_type": "execute_result",
          "data": {
            "text/plain": [
              "Text(0.5, 1.0, 'Number of images per emotion')"
            ]
          },
          "metadata": {
            "tags": []
          },
          "execution_count": 57
        },
        {
          "output_type": "display_data",
          "data": {
            "image/png": "[encoded data removed]",
            "text/plain": [
              "<Figure size 432x288 with 1 Axes>"
            ]
          },
          "metadata": {
            "tags": [],
            "needs_background": "light"
          }
        }
      ]
    },
    {
      "cell_type": "code",
      "metadata": {
        "id": "yCpleju6SHDh"
      },
      "source": [
        "from sklearn.model_selection import train_test_split\n",
        "X_train, X_Test, y_train, y_Test=train_test_split(images_list, images_label,test_size=0.20, shuffle=True)\n",
        "X_val, X_Test, y_val, y_Test=train_test_split(X_Test, y_Test, test_size=0.5, shuffle= True)"
      ],
      "execution_count": null,
      "outputs": []
    },
    {
      "cell_type": "code",
      "metadata": {
        "id": "skd0KV1ySHDi",
        "outputId": "47325f19-1f16-4183-e7ec-96de8c2f03b8"
      },
      "source": [
        "X_train.shape"
      ],
      "execution_count": null,
      "outputs": [
        {
          "output_type": "execute_result",
          "data": {
            "text/plain": [
              "(28709, 48, 48, 1)"
            ]
          },
          "metadata": {
            "tags": []
          },
          "execution_count": 59
        }
      ]
    },
    {
      "cell_type": "code",
      "metadata": {
        "id": "vyY6mqZSSHDi",
        "outputId": "560bbf21-f3ab-407a-c550-617e19c5e4ab"
      },
      "source": [
        "X_Test.shape"
      ],
      "execution_count": null,
      "outputs": [
        {
          "output_type": "execute_result",
          "data": {
            "text/plain": [
              "(3589, 48, 48, 1)"
            ]
          },
          "metadata": {
            "tags": []
          },
          "execution_count": 60
        }
      ]
    },
    {
      "cell_type": "code",
      "metadata": {
        "id": "3s5VDtT3SHDj",
        "outputId": "6cebd941-5dc9-4c80-dad6-7541d6692cb1"
      },
      "source": [
        "X_val.shape"
      ],
      "execution_count": null,
      "outputs": [
        {
          "output_type": "execute_result",
          "data": {
            "text/plain": [
              "(3589, 48, 48, 1)"
            ]
          },
          "metadata": {
            "tags": []
          },
          "execution_count": 61
        }
      ]
    },
    {
      "cell_type": "code",
      "metadata": {
        "id": "_PZ4alGySHDj",
        "outputId": "ed366ce7-99fc-4bf8-975d-5ec2bda3e63c"
      },
      "source": [
        "X_train"
      ],
      "execution_count": null,
      "outputs": [
        {
          "output_type": "execute_result",
          "data": {
            "text/plain": [
              "array([[[[103.],\n",
              "         [105.],\n",
              "         [ 85.],\n",
              "         ...,\n",
              "         [246.],\n",
              "         [242.],\n",
              "         [245.]],\n",
              "\n",
              "        [[120.],\n",
              "         [118.],\n",
              "         [105.],\n",
              "         ...,\n",
              "         [240.],\n",
              "         [232.],\n",
              "         [236.]],\n",
              "\n",
              "        [[116.],\n",
              "         [113.],\n",
              "         [133.],\n",
              "         ...,\n",
              "         [237.],\n",
              "         [237.],\n",
              "         [234.]],\n",
              "\n",
              "        ...,\n",
              "\n",
              "        [[245.],\n",
              "         [246.],\n",
              "         [241.],\n",
              "         ...,\n",
              "         [236.],\n",
              "         [237.],\n",
              "         [246.]],\n",
              "\n",
              "        [[247.],\n",
              "         [248.],\n",
              "         [246.],\n",
              "         ...,\n",
              "         [239.],\n",
              "         [236.],\n",
              "         [239.]],\n",
              "\n",
              "        [[248.],\n",
              "         [248.],\n",
              "         [249.],\n",
              "         ...,\n",
              "         [240.],\n",
              "         [238.],\n",
              "         [238.]]],\n",
              "\n",
              "\n",
              "       [[[209.],\n",
              "         [211.],\n",
              "         [213.],\n",
              "         ...,\n",
              "         [194.],\n",
              "         [192.],\n",
              "         [190.]],\n",
              "\n",
              "        [[212.],\n",
              "         [214.],\n",
              "         [215.],\n",
              "         ...,\n",
              "         [197.],\n",
              "         [193.],\n",
              "         [192.]],\n",
              "\n",
              "        [[214.],\n",
              "         [215.],\n",
              "         [216.],\n",
              "         ...,\n",
              "         [187.],\n",
              "         [196.],\n",
              "         [192.]],\n",
              "\n",
              "        ...,\n",
              "\n",
              "        [[221.],\n",
              "         [215.],\n",
              "         [224.],\n",
              "         ...,\n",
              "         [115.],\n",
              "         [127.],\n",
              "         [167.]],\n",
              "\n",
              "        [[219.],\n",
              "         [224.],\n",
              "         [226.],\n",
              "         ...,\n",
              "         [111.],\n",
              "         [126.],\n",
              "         [140.]],\n",
              "\n",
              "        [[220.],\n",
              "         [229.],\n",
              "         [219.],\n",
              "         ...,\n",
              "         [109.],\n",
              "         [126.],\n",
              "         [132.]]],\n",
              "\n",
              "\n",
              "       [[[247.],\n",
              "         [247.],\n",
              "         [247.],\n",
              "         ...,\n",
              "         [ 71.],\n",
              "         [241.],\n",
              "         [248.]],\n",
              "\n",
              "        [[247.],\n",
              "         [247.],\n",
              "         [247.],\n",
              "         ...,\n",
              "         [ 47.],\n",
              "         [165.],\n",
              "         [255.]],\n",
              "\n",
              "        [[247.],\n",
              "         [247.],\n",
              "         [247.],\n",
              "         ...,\n",
              "         [ 56.],\n",
              "         [ 95.],\n",
              "         [252.]],\n",
              "\n",
              "        ...,\n",
              "\n",
              "        [[ 57.],\n",
              "         [ 58.],\n",
              "         [ 46.],\n",
              "         ...,\n",
              "         [ 13.],\n",
              "         [ 92.],\n",
              "         [117.]],\n",
              "\n",
              "        [[ 11.],\n",
              "         [ 13.],\n",
              "         [  7.],\n",
              "         ...,\n",
              "         [ 63.],\n",
              "         [160.],\n",
              "         [190.]],\n",
              "\n",
              "        [[ 10.],\n",
              "         [  9.],\n",
              "         [ 13.],\n",
              "         ...,\n",
              "         [ 74.],\n",
              "         [162.],\n",
              "         [193.]]],\n",
              "\n",
              "\n",
              "       ...,\n",
              "\n",
              "\n",
              "       [[[161.],\n",
              "         [162.],\n",
              "         [166.],\n",
              "         ...,\n",
              "         [171.],\n",
              "         [169.],\n",
              "         [169.]],\n",
              "\n",
              "        [[159.],\n",
              "         [159.],\n",
              "         [161.],\n",
              "         ...,\n",
              "         [172.],\n",
              "         [170.],\n",
              "         [172.]],\n",
              "\n",
              "        [[162.],\n",
              "         [164.],\n",
              "         [166.],\n",
              "         ...,\n",
              "         [173.],\n",
              "         [172.],\n",
              "         [172.]],\n",
              "\n",
              "        ...,\n",
              "\n",
              "        [[140.],\n",
              "         [137.],\n",
              "         [145.],\n",
              "         ...,\n",
              "         [219.],\n",
              "         [243.],\n",
              "         [230.]],\n",
              "\n",
              "        [[147.],\n",
              "         [146.],\n",
              "         [150.],\n",
              "         ...,\n",
              "         [246.],\n",
              "         [227.],\n",
              "         [220.]],\n",
              "\n",
              "        [[147.],\n",
              "         [148.],\n",
              "         [152.],\n",
              "         ...,\n",
              "         [228.],\n",
              "         [229.],\n",
              "         [243.]]],\n",
              "\n",
              "\n",
              "       [[[ 82.],\n",
              "         [ 91.],\n",
              "         [ 89.],\n",
              "         ...,\n",
              "         [ 48.],\n",
              "         [ 46.],\n",
              "         [ 48.]],\n",
              "\n",
              "        [[112.],\n",
              "         [ 99.],\n",
              "         [107.],\n",
              "         ...,\n",
              "         [ 49.],\n",
              "         [ 47.],\n",
              "         [ 45.]],\n",
              "\n",
              "        [[ 93.],\n",
              "         [ 95.],\n",
              "         [ 91.],\n",
              "         ...,\n",
              "         [ 49.],\n",
              "         [ 47.],\n",
              "         [ 45.]],\n",
              "\n",
              "        ...,\n",
              "\n",
              "        [[134.],\n",
              "         [131.],\n",
              "         [132.],\n",
              "         ...,\n",
              "         [ 14.],\n",
              "         [ 16.],\n",
              "         [ 14.]],\n",
              "\n",
              "        [[129.],\n",
              "         [122.],\n",
              "         [126.],\n",
              "         ...,\n",
              "         [ 15.],\n",
              "         [ 12.],\n",
              "         [ 14.]],\n",
              "\n",
              "        [[124.],\n",
              "         [126.],\n",
              "         [126.],\n",
              "         ...,\n",
              "         [ 14.],\n",
              "         [ 10.],\n",
              "         [ 13.]]],\n",
              "\n",
              "\n",
              "       [[[165.],\n",
              "         [168.],\n",
              "         [171.],\n",
              "         ...,\n",
              "         [ 53.],\n",
              "         [ 45.],\n",
              "         [ 48.]],\n",
              "\n",
              "        [[148.],\n",
              "         [142.],\n",
              "         [153.],\n",
              "         ...,\n",
              "         [ 39.],\n",
              "         [ 53.],\n",
              "         [ 66.]],\n",
              "\n",
              "        [[134.],\n",
              "         [112.],\n",
              "         [122.],\n",
              "         ...,\n",
              "         [ 71.],\n",
              "         [ 69.],\n",
              "         [ 63.]],\n",
              "\n",
              "        ...,\n",
              "\n",
              "        [[ 65.],\n",
              "         [ 68.],\n",
              "         [ 71.],\n",
              "         ...,\n",
              "         [ 64.],\n",
              "         [105.],\n",
              "         [130.]],\n",
              "\n",
              "        [[ 71.],\n",
              "         [ 72.],\n",
              "         [ 70.],\n",
              "         ...,\n",
              "         [ 61.],\n",
              "         [ 81.],\n",
              "         [122.]],\n",
              "\n",
              "        [[ 77.],\n",
              "         [ 74.],\n",
              "         [ 70.],\n",
              "         ...,\n",
              "         [ 70.],\n",
              "         [ 86.],\n",
              "         [125.]]]])"
            ]
          },
          "metadata": {
            "tags": []
          },
          "execution_count": 62
        }
      ]
    },
    {
      "cell_type": "markdown",
      "metadata": {
        "id": "ohV8FRucSHDj"
      },
      "source": [
        "# Normalizing"
      ]
    },
    {
      "cell_type": "code",
      "metadata": {
        "id": "6k0d-zkESHDj"
      },
      "source": [
        "X_train=X_train/255\n",
        "X_val=X_val/255\n",
        "X_Test=X_Test/255"
      ],
      "execution_count": null,
      "outputs": []
    },
    {
      "cell_type": "code",
      "metadata": {
        "id": "p5nbAo6VSHDk",
        "outputId": "da62f067-92e5-48f6-bde4-65f4d8685988"
      },
      "source": [
        "X_train"
      ],
      "execution_count": null,
      "outputs": [
        {
          "output_type": "execute_result",
          "data": {
            "text/plain": [
              "array([[[[0.40392157],\n",
              "         [0.41176471],\n",
              "         [0.33333333],\n",
              "         ...,\n",
              "         [0.96470588],\n",
              "         [0.94901961],\n",
              "         [0.96078431]],\n",
              "\n",
              "        [[0.47058824],\n",
              "         [0.4627451 ],\n",
              "         [0.41176471],\n",
              "         ...,\n",
              "         [0.94117647],\n",
              "         [0.90980392],\n",
              "         [0.9254902 ]],\n",
              "\n",
              "        [[0.45490196],\n",
              "         [0.44313725],\n",
              "         [0.52156863],\n",
              "         ...,\n",
              "         [0.92941176],\n",
              "         [0.92941176],\n",
              "         [0.91764706]],\n",
              "\n",
              "        ...,\n",
              "\n",
              "        [[0.96078431],\n",
              "         [0.96470588],\n",
              "         [0.94509804],\n",
              "         ...,\n",
              "         [0.9254902 ],\n",
              "         [0.92941176],\n",
              "         [0.96470588]],\n",
              "\n",
              "        [[0.96862745],\n",
              "         [0.97254902],\n",
              "         [0.96470588],\n",
              "         ...,\n",
              "         [0.9372549 ],\n",
              "         [0.9254902 ],\n",
              "         [0.9372549 ]],\n",
              "\n",
              "        [[0.97254902],\n",
              "         [0.97254902],\n",
              "         [0.97647059],\n",
              "         ...,\n",
              "         [0.94117647],\n",
              "         [0.93333333],\n",
              "         [0.93333333]]],\n",
              "\n",
              "\n",
              "       [[[0.81960784],\n",
              "         [0.82745098],\n",
              "         [0.83529412],\n",
              "         ...,\n",
              "         [0.76078431],\n",
              "         [0.75294118],\n",
              "         [0.74509804]],\n",
              "\n",
              "        [[0.83137255],\n",
              "         [0.83921569],\n",
              "         [0.84313725],\n",
              "         ...,\n",
              "         [0.77254902],\n",
              "         [0.75686275],\n",
              "         [0.75294118]],\n",
              "\n",
              "        [[0.83921569],\n",
              "         [0.84313725],\n",
              "         [0.84705882],\n",
              "         ...,\n",
              "         [0.73333333],\n",
              "         [0.76862745],\n",
              "         [0.75294118]],\n",
              "\n",
              "        ...,\n",
              "\n",
              "        [[0.86666667],\n",
              "         [0.84313725],\n",
              "         [0.87843137],\n",
              "         ...,\n",
              "         [0.45098039],\n",
              "         [0.49803922],\n",
              "         [0.65490196]],\n",
              "\n",
              "        [[0.85882353],\n",
              "         [0.87843137],\n",
              "         [0.88627451],\n",
              "         ...,\n",
              "         [0.43529412],\n",
              "         [0.49411765],\n",
              "         [0.54901961]],\n",
              "\n",
              "        [[0.8627451 ],\n",
              "         [0.89803922],\n",
              "         [0.85882353],\n",
              "         ...,\n",
              "         [0.42745098],\n",
              "         [0.49411765],\n",
              "         [0.51764706]]],\n",
              "\n",
              "\n",
              "       [[[0.96862745],\n",
              "         [0.96862745],\n",
              "         [0.96862745],\n",
              "         ...,\n",
              "         [0.27843137],\n",
              "         [0.94509804],\n",
              "         [0.97254902]],\n",
              "\n",
              "        [[0.96862745],\n",
              "         [0.96862745],\n",
              "         [0.96862745],\n",
              "         ...,\n",
              "         [0.18431373],\n",
              "         [0.64705882],\n",
              "         [1.        ]],\n",
              "\n",
              "        [[0.96862745],\n",
              "         [0.96862745],\n",
              "         [0.96862745],\n",
              "         ...,\n",
              "         [0.21960784],\n",
              "         [0.37254902],\n",
              "         [0.98823529]],\n",
              "\n",
              "        ...,\n",
              "\n",
              "        [[0.22352941],\n",
              "         [0.22745098],\n",
              "         [0.18039216],\n",
              "         ...,\n",
              "         [0.05098039],\n",
              "         [0.36078431],\n",
              "         [0.45882353]],\n",
              "\n",
              "        [[0.04313725],\n",
              "         [0.05098039],\n",
              "         [0.02745098],\n",
              "         ...,\n",
              "         [0.24705882],\n",
              "         [0.62745098],\n",
              "         [0.74509804]],\n",
              "\n",
              "        [[0.03921569],\n",
              "         [0.03529412],\n",
              "         [0.05098039],\n",
              "         ...,\n",
              "         [0.29019608],\n",
              "         [0.63529412],\n",
              "         [0.75686275]]],\n",
              "\n",
              "\n",
              "       ...,\n",
              "\n",
              "\n",
              "       [[[0.63137255],\n",
              "         [0.63529412],\n",
              "         [0.65098039],\n",
              "         ...,\n",
              "         [0.67058824],\n",
              "         [0.6627451 ],\n",
              "         [0.6627451 ]],\n",
              "\n",
              "        [[0.62352941],\n",
              "         [0.62352941],\n",
              "         [0.63137255],\n",
              "         ...,\n",
              "         [0.6745098 ],\n",
              "         [0.66666667],\n",
              "         [0.6745098 ]],\n",
              "\n",
              "        [[0.63529412],\n",
              "         [0.64313725],\n",
              "         [0.65098039],\n",
              "         ...,\n",
              "         [0.67843137],\n",
              "         [0.6745098 ],\n",
              "         [0.6745098 ]],\n",
              "\n",
              "        ...,\n",
              "\n",
              "        [[0.54901961],\n",
              "         [0.5372549 ],\n",
              "         [0.56862745],\n",
              "         ...,\n",
              "         [0.85882353],\n",
              "         [0.95294118],\n",
              "         [0.90196078]],\n",
              "\n",
              "        [[0.57647059],\n",
              "         [0.57254902],\n",
              "         [0.58823529],\n",
              "         ...,\n",
              "         [0.96470588],\n",
              "         [0.89019608],\n",
              "         [0.8627451 ]],\n",
              "\n",
              "        [[0.57647059],\n",
              "         [0.58039216],\n",
              "         [0.59607843],\n",
              "         ...,\n",
              "         [0.89411765],\n",
              "         [0.89803922],\n",
              "         [0.95294118]]],\n",
              "\n",
              "\n",
              "       [[[0.32156863],\n",
              "         [0.35686275],\n",
              "         [0.34901961],\n",
              "         ...,\n",
              "         [0.18823529],\n",
              "         [0.18039216],\n",
              "         [0.18823529]],\n",
              "\n",
              "        [[0.43921569],\n",
              "         [0.38823529],\n",
              "         [0.41960784],\n",
              "         ...,\n",
              "         [0.19215686],\n",
              "         [0.18431373],\n",
              "         [0.17647059]],\n",
              "\n",
              "        [[0.36470588],\n",
              "         [0.37254902],\n",
              "         [0.35686275],\n",
              "         ...,\n",
              "         [0.19215686],\n",
              "         [0.18431373],\n",
              "         [0.17647059]],\n",
              "\n",
              "        ...,\n",
              "\n",
              "        [[0.5254902 ],\n",
              "         [0.51372549],\n",
              "         [0.51764706],\n",
              "         ...,\n",
              "         [0.05490196],\n",
              "         [0.0627451 ],\n",
              "         [0.05490196]],\n",
              "\n",
              "        [[0.50588235],\n",
              "         [0.47843137],\n",
              "         [0.49411765],\n",
              "         ...,\n",
              "         [0.05882353],\n",
              "         [0.04705882],\n",
              "         [0.05490196]],\n",
              "\n",
              "        [[0.48627451],\n",
              "         [0.49411765],\n",
              "         [0.49411765],\n",
              "         ...,\n",
              "         [0.05490196],\n",
              "         [0.03921569],\n",
              "         [0.05098039]]],\n",
              "\n",
              "\n",
              "       [[[0.64705882],\n",
              "         [0.65882353],\n",
              "         [0.67058824],\n",
              "         ...,\n",
              "         [0.20784314],\n",
              "         [0.17647059],\n",
              "         [0.18823529]],\n",
              "\n",
              "        [[0.58039216],\n",
              "         [0.55686275],\n",
              "         [0.6       ],\n",
              "         ...,\n",
              "         [0.15294118],\n",
              "         [0.20784314],\n",
              "         [0.25882353]],\n",
              "\n",
              "        [[0.5254902 ],\n",
              "         [0.43921569],\n",
              "         [0.47843137],\n",
              "         ...,\n",
              "         [0.27843137],\n",
              "         [0.27058824],\n",
              "         [0.24705882]],\n",
              "\n",
              "        ...,\n",
              "\n",
              "        [[0.25490196],\n",
              "         [0.26666667],\n",
              "         [0.27843137],\n",
              "         ...,\n",
              "         [0.25098039],\n",
              "         [0.41176471],\n",
              "         [0.50980392]],\n",
              "\n",
              "        [[0.27843137],\n",
              "         [0.28235294],\n",
              "         [0.2745098 ],\n",
              "         ...,\n",
              "         [0.23921569],\n",
              "         [0.31764706],\n",
              "         [0.47843137]],\n",
              "\n",
              "        [[0.30196078],\n",
              "         [0.29019608],\n",
              "         [0.2745098 ],\n",
              "         ...,\n",
              "         [0.2745098 ],\n",
              "         [0.3372549 ],\n",
              "         [0.49019608]]]])"
            ]
          },
          "metadata": {
            "tags": []
          },
          "execution_count": 66
        }
      ]
    },
    {
      "cell_type": "code",
      "metadata": {
        "id": "qbI9ZEpBSHDk"
      },
      "source": [
        "#to avoid over fitting we rotate image and is called data augumentation"
      ],
      "execution_count": null,
      "outputs": []
    },
    {
      "cell_type": "code",
      "metadata": {
        "id": "e6BN0NRgSHDk",
        "outputId": "63c15802-9fc6-44bf-d1ce-f6394300b501"
      },
      "source": [
        "!pip install keras==2.1.5"
      ],
      "execution_count": null,
      "outputs": [
        {
          "output_type": "stream",
          "text": [
            "Requirement already satisfied: keras==2.1.5 in c:\\programdata\\anaconda3\\lib\\site-packages (2.1.5)\n",
            "Requirement already satisfied: numpy>=1.9.1 in c:\\users\\user\\appdata\\roaming\\python\\python37\\site-packages (from keras==2.1.5) (1.19.5)\n",
            "Requirement already satisfied: six>=1.9.0 in c:\\users\\user\\appdata\\roaming\\python\\python37\\site-packages (from keras==2.1.5) (1.15.0)\n",
            "Requirement already satisfied: pyyaml in c:\\programdata\\anaconda3\\lib\\site-packages (from keras==2.1.5) (3.13)\n",
            "Requirement already satisfied: scipy>=0.14 in c:\\programdata\\anaconda3\\lib\\site-packages (from keras==2.1.5) (1.1.0)\n"
          ],
          "name": "stdout"
        }
      ]
    },
    {
      "cell_type": "code",
      "metadata": {
        "id": "edPSikTkSHDl",
        "outputId": "60a9a63f-9b9c-423c-849c-1cc1f5e92e9c"
      },
      "source": [
        "from keras.preprocessing.image import ImageDataGenerator\n",
        "datagen = ImageDataGenerator(\n",
        "    featurewise_center=False,\n",
        "    samplewise_std_normalization = False,\n",
        "    zca_whitening= False,\n",
        "    featurewise_std_normalization = True,\n",
        "    rotation_range = 30,\n",
        "    width_shift_range= 0.1,\n",
        "    height_shift_range=0.1,\n",
        "    zoom_range=0.2)\n"
      ],
      "execution_count": null,
      "outputs": [
        {
          "output_type": "stream",
          "text": [
            "C:\\ProgramData\\Anaconda3\\lib\\site-packages\\keras\\preprocessing\\image.py:526: UserWarning: This ImageDataGenerator specifies `featurewise_std_normalization`, which overrides setting of `featurewise_center`.\n",
            "  warnings.warn('This ImageDataGenerator specifies '\n"
          ],
          "name": "stderr"
        }
      ]
    },
    {
      "cell_type": "code",
      "metadata": {
        "id": "Pkf9LcGqSHDl"
      },
      "source": [
        "datagen.fit(X_train)   "
      ],
      "execution_count": null,
      "outputs": []
    },
    {
      "cell_type": "code",
      "metadata": {
        "id": "UEYGi51sSHDl"
      },
      "source": [
        ""
      ],
      "execution_count": null,
      "outputs": []
    },
    {
      "cell_type": "code",
      "metadata": {
        "id": "eUFfRM-RSHDl"
      },
      "source": [
        "input_reshape=(48,48,1)\n",
        "epochs=10\n",
        "batch_size=128\n",
        "hidden_num_units=256\n",
        "output_num_units=7"
      ],
      "execution_count": null,
      "outputs": []
    },
    {
      "cell_type": "code",
      "metadata": {
        "id": "c98_cBM5SHDm"
      },
      "source": [
        "pool_size=(2,2)"
      ],
      "execution_count": null,
      "outputs": []
    },
    {
      "cell_type": "code",
      "metadata": {
        "id": "JUrZpD94SHDm"
      },
      "source": [
        "import tensorflow.keras as keras\n",
        "\n",
        "from tensorflow.keras.models import Sequential\n",
        "from tensorflow.keras.layers import Dense, Activation, Dropout, Convolution2D,Flatten, MaxPooling2D, Reshape, InputLayer\n",
        "from keras.layers.normalization import BatchNormalization\n",
        "from tensorflow.keras.preprocessing.image import load_img"
      ],
      "execution_count": null,
      "outputs": []
    },
    {
      "cell_type": "code",
      "metadata": {
        "id": "8ZqPqp77SHDm"
      },
      "source": [
        "model=Sequential([\n",
        "    Convolution2D(32, (3,3), activation='relu',input_shape=input_reshape),\n",
        "    MaxPooling2D((2,2)),\n",
        "    \n",
        "    Convolution2D(64, (3,3), activation='relu'),\n",
        "    MaxPooling2D((2,2)),\n",
        "    \n",
        "    Convolution2D(64, (3,3), activation='relu'),\n",
        "    MaxPooling2D((2,2)),\n",
        "    \n",
        "    Convolution2D(64, (3,3), activation='relu'),\n",
        "    \n",
        "    Flatten(),\n",
        "    \n",
        "    Dense(64, 'relu'),\n",
        "    \n",
        "    Dense(7, 'softmax'),\n",
        " \n",
        "])"
      ],
      "execution_count": null,
      "outputs": []
    },
    {
      "cell_type": "code",
      "metadata": {
        "id": "JBJvXDI9SHDn",
        "outputId": "efa66110-b49e-4856-fd0f-50d0900188e2"
      },
      "source": [
        "model.compile(loss='categorical_crossentropy', optimizer='adam', metrics=['accuracy'])\n",
        "trained_model_conv=model.fit(X_train, y_train, epochs=epochs, batch_size=batch_size, validation_data=(X_val, y_val))"
      ],
      "execution_count": null,
      "outputs": [
        {
          "output_type": "stream",
          "text": [
            "Epoch 1/10\n",
            "225/225 [==============================] - 104s 445ms/step - loss: 1.8253 - accuracy: 0.2490 - val_loss: 1.6317 - val_accuracy: 0.3622\n",
            "Epoch 2/10\n",
            "225/225 [==============================] - 103s 459ms/step - loss: 1.6033 - accuracy: 0.3768 - val_loss: 1.4803 - val_accuracy: 0.4299\n",
            "Epoch 3/10\n",
            "225/225 [==============================] - 104s 461ms/step - loss: 1.4694 - accuracy: 0.4376 - val_loss: 1.3772 - val_accuracy: 0.4770\n",
            "Epoch 4/10\n",
            "225/225 [==============================] - 104s 462ms/step - loss: 1.3724 - accuracy: 0.4758 - val_loss: 1.3077 - val_accuracy: 0.4968\n",
            "Epoch 5/10\n",
            "225/225 [==============================] - 99s 441ms/step - loss: 1.3004 - accuracy: 0.5047 - val_loss: 1.2854 - val_accuracy: 0.5065\n",
            "Epoch 6/10\n",
            "225/225 [==============================] - 105s 465ms/step - loss: 1.2522 - accuracy: 0.5201 - val_loss: 1.2531 - val_accuracy: 0.5149\n",
            "Epoch 7/10\n",
            "225/225 [==============================] - 102s 453ms/step - loss: 1.2063 - accuracy: 0.5436 - val_loss: 1.2804 - val_accuracy: 0.5157\n",
            "Epoch 8/10\n",
            "225/225 [==============================] - 106s 471ms/step - loss: 1.1590 - accuracy: 0.5618 - val_loss: 1.2163 - val_accuracy: 0.5364\n",
            "Epoch 9/10\n",
            "225/225 [==============================] - 102s 453ms/step - loss: 1.1273 - accuracy: 0.5749 - val_loss: 1.1900 - val_accuracy: 0.5478\n",
            "Epoch 10/10\n",
            "225/225 [==============================] - 99s 438ms/step - loss: 1.0928 - accuracy: 0.5907 - val_loss: 1.1940 - val_accuracy: 0.5481\n"
          ],
          "name": "stdout"
        }
      ]
    },
    {
      "cell_type": "code",
      "metadata": {
        "id": "vtCE2VwMSHDn",
        "outputId": "8941f99e-b89f-4632-eee9-362ba3b270fb"
      },
      "source": [
        "model.predict_classes(X_train[345].reshape(1,48,48,1))"
      ],
      "execution_count": null,
      "outputs": [
        {
          "output_type": "stream",
          "text": [
            "C:\\Users\\user\\AppData\\Roaming\\Python\\Python37\\site-packages\\tensorflow\\python\\keras\\engine\\sequential.py:450: UserWarning: `model.predict_classes()` is deprecated and will be removed after 2021-01-01. Please use instead:* `np.argmax(model.predict(x), axis=-1)`,   if your model does multi-class classification   (e.g. if it uses a `softmax` last-layer activation).* `(model.predict(x) > 0.5).astype(\"int32\")`,   if your model does binary classification   (e.g. if it uses a `sigmoid` last-layer activation).\n",
            "  warnings.warn('`model.predict_classes()` is deprecated and '\n"
          ],
          "name": "stderr"
        },
        {
          "output_type": "execute_result",
          "data": {
            "text/plain": [
              "array([2], dtype=int64)"
            ]
          },
          "metadata": {
            "tags": []
          },
          "execution_count": 116
        }
      ]
    },
    {
      "cell_type": "code",
      "metadata": {
        "id": "8MUfneUJSHDo"
      },
      "source": [
        "# 0 angry, 1 disgust, 2 fear, 3 happy, 4 sad, 5surprise, 6 neutral"
      ],
      "execution_count": null,
      "outputs": []
    },
    {
      "cell_type": "code",
      "metadata": {
        "id": "KhV8PXWmSHDo",
        "outputId": "a3d410e5-b634-4d5e-836d-61c32663340b"
      },
      "source": [
        "plt.imshow(images_list[345].squeeze(),cmap='gray')"
      ],
      "execution_count": null,
      "outputs": [
        {
          "output_type": "execute_result",
          "data": {
            "text/plain": [
              "<matplotlib.image.AxesImage at 0x2181eb63940>"
            ]
          },
          "metadata": {
            "tags": []
          },
          "execution_count": 117
        },
        {
          "output_type": "display_data",
          "data": {
            "image/png": "[encoded data removed]",
            "text/plain": [
              "<Figure size 432x288 with 1 Axes>"
            ]
          },
          "metadata": {
            "tags": [],
            "needs_background": "light"
          }
        }
      ]
    },
    {
      "cell_type": "code",
      "metadata": {
        "id": "u2MRRGLvSHDp"
      },
      "source": [
        ""
      ],
      "execution_count": null,
      "outputs": []
    }
  ]
}